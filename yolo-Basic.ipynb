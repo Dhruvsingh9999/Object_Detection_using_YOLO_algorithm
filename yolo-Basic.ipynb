{
 "cells": [
  {
   "cell_type": "code",
   "execution_count": 4,
   "metadata": {},
   "outputs": [
    {
     "name": "stdout",
     "output_type": "stream",
     "text": [
      "\n",
      "image 1/1 d:\\Programming\\Project\\Object-Detection-yolo-algorithm\\images\\bikes.jpg: 416x640 3 motorcycles, 919.1ms\n",
      "Speed: 2.0ms preprocess, 919.1ms inference, 0.0ms postprocess per image at shape (1, 3, 416, 640)\n"
     ]
    }
   ],
   "source": [
    "from ultralytics import YOLO\n",
    "import cv2\n",
    "model = YOLO('../yolo-weights/yolov8l.pt')\n",
    "results= model(\"images/bikes.jpg\")\n",
    "for result in results:\n",
    "    img = result.plot() \n",
    "cv2.namedWindow(\"YOLO Output\", cv2.WINDOW_NORMAL)  \n",
    "cv2.resizeWindow(\"YOLO Output\", 800, 600) \n",
    "cv2.imshow(\"YOLO Output\", img)\n",
    "cv2.waitKey(0)\n",
    "cv2.destroyAllWindows()"
   ]
  }
 ],
 "metadata": {
  "kernelspec": {
   "display_name": "ml_env",
   "language": "python",
   "name": "python3"
  },
  "language_info": {
   "codemirror_mode": {
    "name": "ipython",
    "version": 3
   },
   "file_extension": ".py",
   "mimetype": "text/x-python",
   "name": "python",
   "nbconvert_exporter": "python",
   "pygments_lexer": "ipython3",
   "version": "3.10.11"
  }
 },
 "nbformat": 4,
 "nbformat_minor": 2
}
